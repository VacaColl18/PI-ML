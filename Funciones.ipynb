{
 "cells": [
  {
   "cell_type": "code",
   "execution_count": 1,
   "metadata": {},
   "outputs": [],
   "source": [
    "# importo librerias y cargo dataset\n",
    "\n",
    "import pandas as pd\n",
    "df_unido = pd.read_csv('dataset_api.csv')"
   ]
  },
  {
   "cell_type": "markdown",
   "metadata": {},
   "source": [
    "# def peliculas_idioma( Idioma: str )"
   ]
  },
  {
   "cell_type": "code",
   "execution_count": 2,
   "metadata": {},
   "outputs": [
    {
     "data": {
      "text/plain": [
       "32249"
      ]
     },
     "execution_count": 2,
     "metadata": {},
     "output_type": "execute_result"
    }
   ],
   "source": [
    "# creo funcion para obtener la cantidad de peliculas por idioma\n",
    "\n",
    "def peliculas_idioma(idioma: str):\n",
    "    conteo = int((df_unido[\"original_language\"] == str(idioma)).sum())\n",
    "    return conteo\n",
    "\n",
    "# Pruebo la funcion\n",
    "peliculas_idioma('en')"
   ]
  },
  {
   "cell_type": "markdown",
   "metadata": {},
   "source": [
    "# def peliculas_duracion( Pelicula: str )"
   ]
  },
  {
   "cell_type": "code",
   "execution_count": 3,
   "metadata": {},
   "outputs": [
    {
     "data": {
      "text/plain": [
       "{'pelicula': 'Avatar', 'duracion': 162, 'anio': 2009}"
      ]
     },
     "execution_count": 3,
     "metadata": {},
     "output_type": "execute_result"
    }
   ],
   "source": [
    "#  funcion pelicula duracion año\n",
    "\n",
    "def peliculas_duracion(pelicula: str):\n",
    "    pelicula = pelicula.lower()\n",
    "    pelicula_info = df_unido[df_unido['title'].str.lower() == pelicula]\n",
    "    if not pelicula_info.empty:\n",
    "        release_year = int(pelicula_info['release_year'].iloc[0])\n",
    "        runtime = int(pelicula_info['runtime'].iloc[0])\n",
    "    else:\n",
    "        release_year = 'No se encontro la pelicula'\n",
    "        runtime = 'No se encontro la pelicula'\n",
    "        pelicula = 'No se encontro la pelicula'\n",
    "    return {'pelicula':pelicula.title(), 'duracion':runtime, 'anio':release_year}\n",
    "\n",
    "\n",
    "# Pruebo la funcion\n",
    "peliculas_duracion('Avatar')"
   ]
  },
  {
   "cell_type": "markdown",
   "metadata": {},
   "source": [
    "# def franquicia( Franquicia: str )"
   ]
  },
  {
   "cell_type": "code",
   "execution_count": 4,
   "metadata": {},
   "outputs": [
    {
     "data": {
      "text/plain": [
       "{'franquicia': 'Toy Story Collection',\n",
       " 'cantidad': 3,\n",
       " 'titulos': {0: 'Toy Story', 3006: 'Toy Story 2', 15406: 'Toy Story 3'},\n",
       " 'ganancia_total': 1937890605.0,\n",
       " 'ganancia_promedio': 645963535.0}"
      ]
     },
     "execution_count": 4,
     "metadata": {},
     "output_type": "execute_result"
    }
   ],
   "source": [
    "# consulta franquicia\n",
    "\n",
    "def franquicia(franquicia: str):\n",
    "    production_company = franquicia.upper()\n",
    "    # Cantidad de títulos por franquicia\n",
    "    titulos = df_unido[df_unido['belongs_to_collection'].str.upper() == production_company]['title'].to_dict()\n",
    "    cantidad = len(titulos)\n",
    "    # ganancia total de la franquicia\n",
    "    gananciatotal = pd.to_numeric(df_unido[df_unido['belongs_to_collection'].str.upper() == production_company]['budget'], errors='coerce') * pd.to_numeric(df_unido[df_unido['belongs_to_collection'].str.upper() == production_company]['return'], errors='coerce')\n",
    "    gananciatotal = gananciatotal.sum()\n",
    "    # Promedio de la ganancia total de la franquicia por pelicula\n",
    "    promedio = pd.to_numeric(df_unido[df_unido['belongs_to_collection'].str.upper() == production_company]['budget'], errors='coerce') * pd.to_numeric(df_unido[df_unido['belongs_to_collection'].str.upper() == production_company]['return'], errors='coerce')\n",
    "    promedio = promedio.mean()\n",
    "    franquicia = franquicia.title()\n",
    "    return {'franquicia': franquicia, 'cantidad': cantidad, 'titulos': titulos, 'ganancia_total': gananciatotal, 'ganancia_promedio': promedio}\n",
    "\n",
    "# Pruebo la funcion\n",
    "franquicia('toy story collection')"
   ]
  },
  {
   "cell_type": "code",
   "execution_count": 5,
   "metadata": {},
   "outputs": [
    {
     "name": "stdout",
     "output_type": "stream",
     "text": [
      "<class 'pandas.core.frame.DataFrame'>\n",
      "RangeIndex: 45451 entries, 0 to 45450\n",
      "Data columns (total 12 columns):\n",
      " #   Column                 Non-Null Count  Dtype  \n",
      "---  ------                 --------------  -----  \n",
      " 0   belongs_to_collection  4497 non-null   object \n",
      " 1   budget                 45451 non-null  int64  \n",
      " 2   id                     45451 non-null  int64  \n",
      " 3   original_language      45440 non-null  object \n",
      " 4   production_companies   45451 non-null  object \n",
      " 5   production_countries   45451 non-null  object \n",
      " 6   revenue                45451 non-null  int64  \n",
      " 7   runtime                45205 non-null  float64\n",
      " 8   title                  45451 non-null  object \n",
      " 9   release_year           45451 non-null  int64  \n",
      " 10  return                 45451 non-null  float64\n",
      " 11  director_name          44616 non-null  object \n",
      "dtypes: float64(2), int64(4), object(6)\n",
      "memory usage: 4.2+ MB\n"
     ]
    }
   ],
   "source": [
    "df_unido.info()"
   ]
  },
  {
   "cell_type": "markdown",
   "metadata": {},
   "source": [
    "# def peliculas_pais( Pais: str )"
   ]
  },
  {
   "cell_type": "code",
   "execution_count": 6,
   "metadata": {},
   "outputs": [
    {
     "data": {
      "text/plain": [
       "{'pais': 'Argentin', 'cantidad': 254}"
      ]
     },
     "execution_count": 6,
     "metadata": {},
     "output_type": "execute_result"
    }
   ],
   "source": [
    "def peliculas_pais(pais: str):\n",
    "    df_unido['production_countries'] = df_unido['production_countries'].apply(lambda x: [] if pd.isnull(x) else x)\n",
    "    cantidad = int(df_unido[df_unido['production_countries'].apply(lambda x: pais in x if x is not None else False)]['title'].count())\n",
    "    pais = pais.title()\n",
    "    return {'pais': pais, 'cantidad': cantidad}\n",
    "\n",
    "# Pruebo la funcion\n",
    "peliculas_pais('Argentin')"
   ]
  },
  {
   "cell_type": "markdown",
   "metadata": {},
   "source": [
    "# def productoras_exitosas( Productora: str )"
   ]
  },
  {
   "cell_type": "code",
   "execution_count": 7,
   "metadata": {},
   "outputs": [
    {
     "data": {
      "text/plain": [
       "{'productora': 'Pixar Animation Studios',\n",
       " 'revenue_total': 11188533734,\n",
       " 'cantidad': 52}"
      ]
     },
     "execution_count": 7,
     "metadata": {},
     "output_type": "execute_result"
    }
   ],
   "source": [
    "# consulta productoras exitosas\n",
    "\n",
    "def productoras_exitosas(productora:str):\n",
    "    titulos = df_unido[df_unido['production_companies'].apply(lambda x: productora in x if x is not None else False)]['title'].count()\n",
    "    revenue_total = df_unido[df_unido['production_companies'].apply(lambda x: productora in x if x is not None else False)]['revenue'].sum()\n",
    "    productora = productora.title()\n",
    "    return {'productora': productora, 'revenue_total': revenue_total, 'cantidad': titulos}\n",
    "\n",
    "# Pruebo la funcion\n",
    "productoras_exitosas('Pixar Animation Studios')"
   ]
  },
  {
   "cell_type": "markdown",
   "metadata": {},
   "source": [
    "# def get_director( nombre_director )"
   ]
  },
  {
   "cell_type": "code",
   "execution_count": 8,
   "metadata": {},
   "outputs": [
    {
     "data": {
      "text/plain": [
       "{'director': 'John Lasseter',\n",
       " 'retorno_total_director': 2.765437835777778,\n",
       " 'peliculas': ['Toy Story',\n",
       "  \"A Bug's Life\",\n",
       "  'Toy Story 2',\n",
       "  'Luxo Jr.',\n",
       "  'Cars',\n",
       "  'Cars 2',\n",
       "  'Tin Toy',\n",
       "  \"Red's Dream\",\n",
       "  'Knick Knack',\n",
       "  'Mater and the Ghostlight'],\n",
       " 'anio': {'Toy Story': 1995,\n",
       "  \"A Bug's Life\": 1998,\n",
       "  'Toy Story 2': 1999,\n",
       "  'Luxo Jr.': 1986,\n",
       "  'Cars': 2006,\n",
       "  'Cars 2': 2011,\n",
       "  'Tin Toy': 1988,\n",
       "  \"Red's Dream\": 1987,\n",
       "  'Knick Knack': 1989,\n",
       "  'Mater and the Ghostlight': 2006},\n",
       " 'retorno_pelicula': {'Toy Story': 12.4518011,\n",
       "  \"A Bug's Life\": 3.027157158333333,\n",
       "  'Toy Story 2': 5.526298544444445,\n",
       "  'Luxo Jr.': 0.0,\n",
       "  'Cars': 3.849859575,\n",
       "  'Cars 2': 2.79926198,\n",
       "  'Tin Toy': 0.0,\n",
       "  \"Red's Dream\": 0.0,\n",
       "  'Knick Knack': 0.0,\n",
       "  'Mater and the Ghostlight': 0.0},\n",
       " 'budget_pelicula': {'Toy Story': 30000000,\n",
       "  \"A Bug's Life\": 120000000,\n",
       "  'Toy Story 2': 90000000,\n",
       "  'Luxo Jr.': 0,\n",
       "  'Cars': 120000000,\n",
       "  'Cars 2': 200000000,\n",
       "  'Tin Toy': 0,\n",
       "  \"Red's Dream\": 0,\n",
       "  'Knick Knack': 0,\n",
       "  'Mater and the Ghostlight': 0},\n",
       " 'revenue_pelicula': {'Toy Story': 373554033,\n",
       "  \"A Bug's Life\": 363258859,\n",
       "  'Toy Story 2': 497366869,\n",
       "  'Luxo Jr.': 0,\n",
       "  'Cars': 461983149,\n",
       "  'Cars 2': 559852396,\n",
       "  'Tin Toy': 0,\n",
       "  \"Red's Dream\": 0,\n",
       "  'Knick Knack': 0,\n",
       "  'Mater and the Ghostlight': 0}}"
      ]
     },
     "execution_count": 8,
     "metadata": {},
     "output_type": "execute_result"
    }
   ],
   "source": [
    "# obtengo los datos solicitados de director\n",
    "\n",
    "def get_director(nombre_director: str): \n",
    "    df_filtrado = df_unido[df_unido['director_name'] == nombre_director]\n",
    "    df_indexado = df_filtrado.set_index('title')\n",
    "    promedio_return = df_filtrado['return'].mean()\n",
    "    lista_peliculas = df_filtrado['title'].tolist()\n",
    "    dict_anios = df_indexado['release_year'].to_dict()\n",
    "    dict_return = dict(zip(df_indexado.index, df_indexado['return'].tolist()))\n",
    "    dict_budget = dict(zip(df_indexado.index, df_indexado['budget'].tolist()))\n",
    "    dict_revenue = dict(zip(df_indexado.index, df_indexado['revenue'].tolist()))\n",
    "    return {'director':nombre_director, 'retorno_total_director':promedio_return, \n",
    "    'peliculas':lista_peliculas, 'anio':dict_anios, 'retorno_pelicula':dict_return, \n",
    "    'budget_pelicula':dict_budget, 'revenue_pelicula':dict_revenue}\n",
    "\n",
    "# Pruebo la funcion\n",
    "get_director('John Lasseter')"
   ]
  }
 ],
 "metadata": {
  "kernelspec": {
   "display_name": "Python 3",
   "language": "python",
   "name": "python3"
  },
  "language_info": {
   "codemirror_mode": {
    "name": "ipython",
    "version": 3
   },
   "file_extension": ".py",
   "mimetype": "text/x-python",
   "name": "python",
   "nbconvert_exporter": "python",
   "pygments_lexer": "ipython3",
   "version": "3.11.3"
  },
  "orig_nbformat": 4
 },
 "nbformat": 4,
 "nbformat_minor": 2
}
